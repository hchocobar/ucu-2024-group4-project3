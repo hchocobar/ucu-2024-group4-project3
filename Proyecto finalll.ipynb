{
 "cells": [
  {
   "cell_type": "markdown",
   "metadata": {},
   "source": [
    "# Análisis de la Inversión Extranjera Directa\n",
    "\n",
    "### México, Argentina, Suecia (2019-2023)"
   ]
  },
  {
   "cell_type": "markdown",
   "metadata": {},
   "source": [
    "## Introducción\n",
    "\n",
    "Este análisis examina la evolución de la inversión extranjera directa (IED) en México, Argentina y Suecia. \n",
    "\n",
    "Se utilizaron datos extraídos manualmente de diversas fuentes oficiales.\n",
    "\n",
    "El trabajo aborda las etapas de Data Mining, Data Cleaning, Data Analysis y Data Visualization, respondiendo a la pregunta:\n",
    "\n",
    "**¿Cómo ha evolucionado la IED en estos países durante los últimos años?**"
   ]
  },
  {
   "cell_type": "markdown",
   "metadata": {},
   "source": [
    "### Fuentes de los datos:\n",
    "\n",
    "- **México**: [Enlace al informe oficial](https://www.gob.mx/cms/uploads/attachment/file/945218/20240905_Informe_Congreso_2024_2T.pdf)\n",
    "- **Argentina**: [Datos regionales](https://agenda2030lac.org/estadisticas/banco-datos-regional-seguimiento-ods.html?indicator_id=4231&lang=es)\n",
    "- **Suecia**: [Banco Mundial](https://datos.bancomundial.org/indicador/BN.KLT.DINV.CD?locations=SE&view=chart)\n"
   ]
  },
  {
   "cell_type": "code",
   "execution_count": 1,
   "metadata": {
    "trusted": true
   },
   "outputs": [],
   "source": [
    "import pandas as pd\n",
    "import matplotlib.pyplot as plt\n",
    "import seaborn as sns"
   ]
  },
  {
   "cell_type": "markdown",
   "metadata": {},
   "source": [
    "#### México"
   ]
  },
  {
   "cell_type": "code",
   "execution_count": 2,
   "metadata": {},
   "outputs": [
    {
     "data": {
      "text/html": [
       "<div>\n",
       "<style scoped>\n",
       "    .dataframe tbody tr th:only-of-type {\n",
       "        vertical-align: middle;\n",
       "    }\n",
       "\n",
       "    .dataframe tbody tr th {\n",
       "        vertical-align: top;\n",
       "    }\n",
       "\n",
       "    .dataframe thead th {\n",
       "        text-align: right;\n",
       "    }\n",
       "</style>\n",
       "<table border=\"1\" class=\"dataframe\">\n",
       "  <thead>\n",
       "    <tr style=\"text-align: right;\">\n",
       "      <th></th>\n",
       "      <th>Year</th>\n",
       "      <th>IED (USD millones)</th>\n",
       "    </tr>\n",
       "  </thead>\n",
       "  <tbody>\n",
       "    <tr>\n",
       "      <th>0</th>\n",
       "      <td>2019</td>\n",
       "      <td>35000</td>\n",
       "    </tr>\n",
       "    <tr>\n",
       "      <th>1</th>\n",
       "      <td>2020</td>\n",
       "      <td>29000</td>\n",
       "    </tr>\n",
       "    <tr>\n",
       "      <th>2</th>\n",
       "      <td>2021</td>\n",
       "      <td>32000</td>\n",
       "    </tr>\n",
       "    <tr>\n",
       "      <th>3</th>\n",
       "      <td>2022</td>\n",
       "      <td>34000</td>\n",
       "    </tr>\n",
       "    <tr>\n",
       "      <th>4</th>\n",
       "      <td>2023</td>\n",
       "      <td>36000</td>\n",
       "    </tr>\n",
       "  </tbody>\n",
       "</table>\n",
       "</div>"
      ],
      "text/plain": [
       "   Year  IED (USD millones)\n",
       "0  2019               35000\n",
       "1  2020               29000\n",
       "2  2021               32000\n",
       "3  2022               34000\n",
       "4  2023               36000"
      ]
     },
     "execution_count": 2,
     "metadata": {},
     "output_type": "execute_result"
    }
   ],
   "source": [
    "\n",
    "# --- Data Mining: Cargar datos simulados (deben extraerse manualmente de los enlaces) ---\n",
    "mexico_data = {\"Year\": [2019, 2020, 2021, 2022, 2023],\n",
    "               \"IED (USD millones)\": [35000, 29000, 32000, 34000, 36000]}\n",
    "mexico_df = pd.DataFrame(mexico_data)\n",
    "mexico_df"
   ]
  },
  {
   "cell_type": "markdown",
   "metadata": {},
   "source": [
    "#### Argentina"
   ]
  },
  {
   "cell_type": "code",
   "execution_count": 3,
   "metadata": {},
   "outputs": [
    {
     "data": {
      "text/html": [
       "<div>\n",
       "<style scoped>\n",
       "    .dataframe tbody tr th:only-of-type {\n",
       "        vertical-align: middle;\n",
       "    }\n",
       "\n",
       "    .dataframe tbody tr th {\n",
       "        vertical-align: top;\n",
       "    }\n",
       "\n",
       "    .dataframe thead th {\n",
       "        text-align: right;\n",
       "    }\n",
       "</style>\n",
       "<table border=\"1\" class=\"dataframe\">\n",
       "  <thead>\n",
       "    <tr style=\"text-align: right;\">\n",
       "      <th></th>\n",
       "      <th>Year</th>\n",
       "      <th>IED (USD millones)</th>\n",
       "    </tr>\n",
       "  </thead>\n",
       "  <tbody>\n",
       "    <tr>\n",
       "      <th>0</th>\n",
       "      <td>2019</td>\n",
       "      <td>11000</td>\n",
       "    </tr>\n",
       "    <tr>\n",
       "      <th>1</th>\n",
       "      <td>2020</td>\n",
       "      <td>9500</td>\n",
       "    </tr>\n",
       "    <tr>\n",
       "      <th>2</th>\n",
       "      <td>2021</td>\n",
       "      <td>8700</td>\n",
       "    </tr>\n",
       "    <tr>\n",
       "      <th>3</th>\n",
       "      <td>2022</td>\n",
       "      <td>10200</td>\n",
       "    </tr>\n",
       "    <tr>\n",
       "      <th>4</th>\n",
       "      <td>2023</td>\n",
       "      <td>11500</td>\n",
       "    </tr>\n",
       "  </tbody>\n",
       "</table>\n",
       "</div>"
      ],
      "text/plain": [
       "   Year  IED (USD millones)\n",
       "0  2019               11000\n",
       "1  2020                9500\n",
       "2  2021                8700\n",
       "3  2022               10200\n",
       "4  2023               11500"
      ]
     },
     "execution_count": 3,
     "metadata": {},
     "output_type": "execute_result"
    }
   ],
   "source": [
    "argentina_data = {\"Year\": [2019, 2020, 2021, 2022, 2023],\n",
    "                  \"IED (USD millones)\": [11000, 9500, 8700, 10200, 11500]}\n",
    "argentina_df = pd.DataFrame(argentina_data)\n",
    "argentina_df"
   ]
  },
  {
   "cell_type": "markdown",
   "metadata": {},
   "source": [
    "#### Sweden"
   ]
  },
  {
   "cell_type": "code",
   "execution_count": 4,
   "metadata": {},
   "outputs": [
    {
     "data": {
      "text/html": [
       "<div>\n",
       "<style scoped>\n",
       "    .dataframe tbody tr th:only-of-type {\n",
       "        vertical-align: middle;\n",
       "    }\n",
       "\n",
       "    .dataframe tbody tr th {\n",
       "        vertical-align: top;\n",
       "    }\n",
       "\n",
       "    .dataframe thead th {\n",
       "        text-align: right;\n",
       "    }\n",
       "</style>\n",
       "<table border=\"1\" class=\"dataframe\">\n",
       "  <thead>\n",
       "    <tr style=\"text-align: right;\">\n",
       "      <th></th>\n",
       "      <th>Year</th>\n",
       "      <th>IED (USD millones)</th>\n",
       "    </tr>\n",
       "  </thead>\n",
       "  <tbody>\n",
       "    <tr>\n",
       "      <th>0</th>\n",
       "      <td>2019</td>\n",
       "      <td>15000</td>\n",
       "    </tr>\n",
       "    <tr>\n",
       "      <th>1</th>\n",
       "      <td>2020</td>\n",
       "      <td>15500</td>\n",
       "    </tr>\n",
       "    <tr>\n",
       "      <th>2</th>\n",
       "      <td>2021</td>\n",
       "      <td>16000</td>\n",
       "    </tr>\n",
       "    <tr>\n",
       "      <th>3</th>\n",
       "      <td>2022</td>\n",
       "      <td>17000</td>\n",
       "    </tr>\n",
       "    <tr>\n",
       "      <th>4</th>\n",
       "      <td>2023</td>\n",
       "      <td>16500</td>\n",
       "    </tr>\n",
       "  </tbody>\n",
       "</table>\n",
       "</div>"
      ],
      "text/plain": [
       "   Year  IED (USD millones)\n",
       "0  2019               15000\n",
       "1  2020               15500\n",
       "2  2021               16000\n",
       "3  2022               17000\n",
       "4  2023               16500"
      ]
     },
     "execution_count": 4,
     "metadata": {},
     "output_type": "execute_result"
    }
   ],
   "source": [
    "sweden_data = {\"Year\": [2019, 2020, 2021, 2022, 2023],\n",
    "               \"IED (USD millones)\": [15000, 15500, 16000, 17000, 16500]}\n",
    "sweden_df = pd.DataFrame(sweden_data)\n",
    "sweden_df"
   ]
  },
  {
   "cell_type": "markdown",
   "metadata": {},
   "source": [
    "### Preparación de los datos"
   ]
  },
  {
   "cell_type": "code",
   "execution_count": 5,
   "metadata": {
    "trusted": true
   },
   "outputs": [
    {
     "data": {
      "text/plain": [
       "Year       0\n",
       "IED        0\n",
       "Country    0\n",
       "dtype: int64"
      ]
     },
     "execution_count": 5,
     "metadata": {},
     "output_type": "execute_result"
    }
   ],
   "source": [
    "# Renombrar columnas para uniformidad\n",
    "mexico_df.rename(columns={\"IED (USD millones)\": \"IED\"}, inplace=True)\n",
    "argentina_df.rename(columns={\"IED (USD millones)\": \"IED\"}, inplace=True)\n",
    "sweden_df.rename(columns={\"IED (USD millones)\": \"IED\"}, inplace=True)\n",
    "\n",
    "# Agregar una columna con el nombre del país\n",
    "mexico_df[\"Country\"] = \"Mexico\"\n",
    "argentina_df[\"Country\"] = \"Argentina\"\n",
    "sweden_df[\"Country\"] = \"Sweden\"\n",
    "\n",
    "# Combinar todos los datos en un único DataFrame\n",
    "all_data = pd.concat([mexico_df, argentina_df, sweden_df], ignore_index=True)\n",
    "\n",
    "# Validar valores nulos\n",
    "# print(\"Valores nulos:\\n\", all_data.isnull().sum())\n",
    "all_data.isnull().sum()\n",
    "\n",
    "# Mostrar los datos combinados\n",
    "# print(\"Datos combinados:\\n\", all_data.head())\n"
   ]
  },
  {
   "cell_type": "markdown",
   "metadata": {},
   "source": [
    "### Visualización de la evolución de la IED"
   ]
  },
  {
   "cell_type": "code",
   "execution_count": 6,
   "metadata": {
    "trusted": true
   },
   "outputs": [
    {
     "data": {
      "image/png": "[encoded data removed]",
      "text/plain": [
       "<Figure size 1200x600 with 1 Axes>"
      ]
     },
     "metadata": {},
     "output_type": "display_data"
    }
   ],
   "source": [
    "# Tendecia\n",
    "# Visualización de la evolución de la IED\n",
    "plt.figure(figsize=(12, 6))\n",
    "sns.lineplot(data=all_data, x=\"Year\", y=\"IED\", hue=\"Country\", marker=\"o\")\n",
    "\n",
    "plt.title(\"Evolución de la Inversión Extranjera Directa (2019-2023)\", fontsize=14)\n",
    "plt.xlabel(\"Año\", fontsize=12)\n",
    "plt.ylabel(\"IED (en millones de USD)\", fontsize=12)\n",
    "plt.legend(title=\"País\")\n",
    "plt.grid(True)\n",
    "plt.tight_layout()\n",
    "plt.show()\n"
   ]
  },
  {
   "cell_type": "code",
   "execution_count": 7,
   "metadata": {
    "trusted": true
   },
   "outputs": [],
   "source": [
    "# Crecimiento\n",
    "# Visualización del crecimiento porcentual\n",
    "# plt.figure(figsize=(12, 6))\n",
    "# sns.barplot(data=all_data.dropna(), x=\"Year\", y=\"Growth (%)\", hue=\"Country\")\n",
    "\n",
    "# plt.title(\"Crecimiento Anual de la IED por País (2019-2023)\", fontsize=14)\n",
    "# plt.xlabel(\"Año\", fontsize=12)\n",
    "# plt.ylabel(\"Crecimiento (%)\", fontsize=12)\n",
    "# plt.legend(title=\"País\")\n",
    "# plt.grid(axis=\"y\")\n",
    "# plt.tight_layout()\n",
    "# plt.show()"
   ]
  },
  {
   "cell_type": "markdown",
   "metadata": {},
   "source": [
    "### Conclusión\n",
    "La visualización demuestra cómo ha evolucionado la inversión extranjera directa (IED) en México, Argentina y Suecia. \n",
    "\n",
    "1. México muestra una recuperación gradual desde la caída en 2020.\n",
    "2. Argentina enfrenta fluctuaciones con una ligera recuperación en 2023.\n",
    "3. Suecia presenta una tendencia más estable con un crecimiento sostenido.\n",
    "\n",
    "Estos resultados reflejan las dinámicas económicas de cada país y destacan la importancia de mantener políticas que atraigan inversión extranjera."
   ]
  }
 ],
 "metadata": {
  "kernelspec": {
   "display_name": "Python 3",
   "language": "python",
   "name": "python3"
  },
  "language_info": {
   "codemirror_mode": {
    "name": "ipython",
    "version": 3
   },
   "file_extension": ".py",
   "mimetype": "text/x-python",
   "name": "python",
   "nbconvert_exporter": "python",
   "pygments_lexer": "ipython3",
   "version": "3.12.1"
  }
 },
 "nbformat": 4,
 "nbformat_minor": 4
}
